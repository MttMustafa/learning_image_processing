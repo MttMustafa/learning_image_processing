{
 "cells": [
  {
   "cell_type": "code",
   "execution_count": 17,
   "id": "a7f23a0a",
   "metadata": {},
   "outputs": [],
   "source": [
    "import numpy as np\n",
    "import matplotlib as plt\n",
    "import cv2"
   ]
  },
  {
   "cell_type": "code",
   "execution_count": 16,
   "id": "50064dd3",
   "metadata": {},
   "outputs": [],
   "source": [
    "#####Function######\n",
    "def draw_circle(event,x,y,flags,param):\n",
    "    if event == cv2.EVENT_LBUTTONDOWN:#event is pressing down left button\n",
    "        cv2.circle(img,(x,y),100,(255,0,0),-1)#if evet happens we draw a circle\n",
    "    elif event == cv2.EVENT_RBUTTONDOWN:\n",
    "        cv2.circle(img,(x,y),100,(0,255,0),-1)#if evet happens we draw a circle\n",
    "\n",
    "cv2.namedWindow(winname='mydrawing') #connecting function to our convas window\n",
    "cv2.setMouseCallback('mydrawing',draw_circle) #connecting function and window with mouse callback function\n",
    "#####Showing the Image#########\n",
    "img = np.zeros((512,512,3))\n",
    "while True:\n",
    "    cv2.imshow('mydrawing',img)\n",
    "    if cv2.waitKey(20) & 0xFF == 27: #on ESC key input break the loop\n",
    "        break\n",
    "cv2.destroyAllWindows()"
   ]
  },
  {
   "cell_type": "code",
   "execution_count": 20,
   "id": "c844d2a1",
   "metadata": {},
   "outputs": [],
   "source": [
    "##Variables\n",
    "drawing = False #True while mouse button down, False while mouse button UP\n",
    "ix,iy = -1,-1 #these are are the starting corners coordinates\n",
    "##Function\n",
    "def draw_rectangle(event,x,y,flags,param):\n",
    "    global ix,iy,drawing\n",
    "    \n",
    "    if event == cv2.EVENT_LBUTTONDOWN: #hold left mouse down event\n",
    "        drawing = True \n",
    "        ix,iy = x,y\n",
    "    elif event == cv2.EVENT_MOUSEMOVE:\n",
    "        if drawing == True: #if drawing activated\n",
    "            cv2.rectangle(img2,(ix,iy),(x,y),(0,0,255),10) \n",
    "    elif event == cv2.EVENT_LBUTTONUP:\n",
    "        drawing = False\n",
    "        cv2.rectangle(img2,(ix,iy),(x,y),(0,0,255),-1)\n",
    "        \n",
    "##Showing the Image\n",
    "img2 = np.zeros((512,512,3)) #empty canvas of zeros\n",
    "cv2.namedWindow(winname='my_drawing') #gives target canvas to cv2\n",
    "cv2.setMouseCallback('my_drawing',draw_rectangle) #binds the mouse functions to canvas\n",
    "while True:\n",
    "    cv2.imshow('my_drawing',img2)\n",
    "    if cv2.waitKey(1) & 0xFF == 27:\n",
    "        break\n",
    "cv2.destroyAllWindows()"
   ]
  },
  {
   "cell_type": "code",
   "execution_count": null,
   "id": "c32f77f0",
   "metadata": {},
   "outputs": [],
   "source": []
  }
 ],
 "metadata": {
  "kernelspec": {
   "display_name": "Python 3",
   "language": "python",
   "name": "python3"
  },
  "language_info": {
   "codemirror_mode": {
    "name": "ipython",
    "version": 3
   },
   "file_extension": ".py",
   "mimetype": "text/x-python",
   "name": "python",
   "nbconvert_exporter": "python",
   "pygments_lexer": "ipython3",
   "version": "3.9.2"
  }
 },
 "nbformat": 4,
 "nbformat_minor": 5
}
