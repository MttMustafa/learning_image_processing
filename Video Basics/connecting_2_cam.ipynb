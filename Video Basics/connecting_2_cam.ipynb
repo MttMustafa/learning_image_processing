{
 "cells": [
  {
   "cell_type": "code",
   "execution_count": 3,
   "id": "e938899b",
   "metadata": {},
   "outputs": [],
   "source": [
    "import cv2\n",
    "\n",
    "capture = cv2.VideoCapture(0)\n",
    "\n",
    "width = int(capture.get(cv2.CAP_PROP_FRAME_WIDTH))\n",
    "height = int(capture.get(cv2.CAP_PROP_FRAME_HEIGHT))\n",
    "\n",
    "# For Windows DIVX format is better\n",
    "# For Linux XVID\n",
    "#setting up video writer file name, video format, fps, dimentions\n",
    "writer = cv2.VideoWriter('camRecording.mp4', cv2.VideoWriter_fourcc(*'DIVX'),30,(width,height)) \n",
    "while True:\n",
    "    ret, frame = capture.read()\n",
    "    cv2.imshow('frame', frame)\n",
    "    writer.write(frame) #write each frame\n",
    "    if cv2.waitKey(1) & 0xFF == ord('q'):\n",
    "        break\n",
    "writer.release()\n",
    "capture.release()\n",
    "cv2.destroyAllWindows()"
   ]
  },
  {
   "cell_type": "code",
   "execution_count": 5,
   "id": "ba4813bc",
   "metadata": {},
   "outputs": [
    {
     "data": {
      "text/plain": [
       "'C:\\\\Users\\\\Mtt\\\\Desktop\\\\Computer Vision Course\\\\MyCode\\\\Video Basics'"
      ]
     },
     "execution_count": 5,
     "metadata": {},
     "output_type": "execute_result"
    }
   ],
   "source": []
  },
  {
   "cell_type": "code",
   "execution_count": null,
   "id": "bb04e60b",
   "metadata": {},
   "outputs": [],
   "source": []
  }
 ],
 "metadata": {
  "kernelspec": {
   "display_name": "Python 3 (ipykernel)",
   "language": "python",
   "name": "python3"
  },
  "language_info": {
   "codemirror_mode": {
    "name": "ipython",
    "version": 3
   },
   "file_extension": ".py",
   "mimetype": "text/x-python",
   "name": "python",
   "nbconvert_exporter": "python",
   "pygments_lexer": "ipython3",
   "version": "3.9.7"
  }
 },
 "nbformat": 4,
 "nbformat_minor": 5
}
