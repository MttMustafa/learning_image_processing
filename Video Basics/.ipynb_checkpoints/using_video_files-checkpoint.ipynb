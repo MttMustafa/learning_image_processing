{
 "cells": [
  {
   "cell_type": "code",
   "execution_count": 11,
   "id": "06a217e1",
   "metadata": {},
   "outputs": [],
   "source": [
    "import cv2\n",
    "import time"
   ]
  },
  {
   "cell_type": "code",
   "execution_count": 12,
   "id": "7cd701f7",
   "metadata": {},
   "outputs": [],
   "source": [
    "capture = cv2.VideoCapture('camRecording.mp4')\n",
    "\n",
    "if capture.isOpened() == False:\n",
    "    print('ERROR: VIDEO FILE NOT FOUND OR WRONG CODEC!')\n",
    "while capture.isOpened() == True:\n",
    "    ret, frame = capture.read()\n",
    "    \n",
    "    if ret == True:\n",
    "        fps = 30 #target videos vps value\n",
    "        time.sleep(1 / fps) #adds 1/30 seconds delay before each frame so video can be played real time\n",
    "        cv2.imshow('frame', frame)\n",
    "        \n",
    "        if cv2.waitKey(10) & 0xFF == ord('q'):\n",
    "            break\n",
    "    else:\n",
    "        break\n",
    "        \n",
    "capture.release()\n",
    "cv2.destroyAllWindows()"
   ]
  },
  {
   "cell_type": "code",
   "execution_count": null,
   "id": "8ca98507",
   "metadata": {},
   "outputs": [],
   "source": []
  }
 ],
 "metadata": {
  "kernelspec": {
   "display_name": "Python 3 (ipykernel)",
   "language": "python",
   "name": "python3"
  },
  "language_info": {
   "codemirror_mode": {
    "name": "ipython",
    "version": 3
   },
   "file_extension": ".py",
   "mimetype": "text/x-python",
   "name": "python",
   "nbconvert_exporter": "python",
   "pygments_lexer": "ipython3",
   "version": "3.9.7"
  }
 },
 "nbformat": 4,
 "nbformat_minor": 5
}
